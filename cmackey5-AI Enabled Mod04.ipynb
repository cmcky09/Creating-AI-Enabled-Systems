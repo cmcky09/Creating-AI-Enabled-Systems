{
 "cells": [
  {
   "cell_type": "code",
   "execution_count": null,
   "id": "bridal-donor",
   "metadata": {},
   "outputs": [],
   "source": [
    "import json\n",
    "import nltk\n",
    "nltk.download()\n",
    "from nltk.tokenize import word_tokenize\n",
    "from nltk.stem import PorterStemmer, WordNetLemmatizer\n",
    "\n"
   ]
  },
  {
   "cell_type": "code",
   "execution_count": null,
   "id": "386afc29",
   "metadata": {},
   "outputs": [],
   "source": [
    "with open('Musical_Instruments_5.json', 'r') as file:\n",
    "    data = [json.loads(line) for line in open('Musical_Instruments_5.json', 'r')]\n",
    "    summaries = [item['summary'] for item in data]\n",
    "\n",
    "tokenized_summaries = [word_tokenize(summary) for summary in summaries]\n",
    "print(tokenized_summaries)\n"
   ]
  },
  {
   "cell_type": "code",
   "execution_count": null,
   "id": "f3d56ba7",
   "metadata": {},
   "outputs": [],
   "source": [
    "stemmer = PorterStemmer()\n",
    "stemmed_summaries = []\n",
    "for summary in tokenized_summaries:\n",
    "    stemmed_summary = [stemmer.stem(word) for word in summary]\n",
    "    stemmed_summaries.append(stemmed_summary)\n",
    "\n",
    "print(stemmed_summaries)\n",
    "\n"
   ]
  },
  {
   "cell_type": "code",
   "execution_count": null,
   "id": "394be076",
   "metadata": {},
   "outputs": [],
   "source": [
    "lemmatizer = WordNetLemmatizer()\n",
    "lemmatized_summaries = []\n",
    "for summary in stemmed_summaries:\n",
    "    lemmatized_summaries.append([lemmatizer.lemmatize(word) for word in summary])\n",
    "print(lemmatized_summaries)"
   ]
  },
  {
   "cell_type": "code",
   "execution_count": null,
   "id": "885ee2e7",
   "metadata": {},
   "outputs": [],
   "source": [
    "lemmatizer = WordNetLemmatizer()\n",
    "lemmatized_summaries = []\n",
    "for summary in tokenized_summaries:\n",
    "    lemmatized_summaries.append([lemmatizer.lemmatize(word) for word in summary])\n",
    "print(lemmatized_summaries)"
   ]
  },
  {
   "cell_type": "code",
   "execution_count": null,
   "id": "narrow-passing",
   "metadata": {},
   "outputs": [],
   "source": []
  }
 ],
 "metadata": {
  "kernelspec": {
   "display_name": "Python 3",
   "language": "python",
   "name": "python3"
  },
  "language_info": {
   "codemirror_mode": {
    "name": "ipython",
    "version": 3
   },
   "file_extension": ".py",
   "mimetype": "text/x-python",
   "name": "python",
   "nbconvert_exporter": "python",
   "pygments_lexer": "ipython3",
   "version": "3.8.8"
  }
 },
 "nbformat": 4,
 "nbformat_minor": 5
}
