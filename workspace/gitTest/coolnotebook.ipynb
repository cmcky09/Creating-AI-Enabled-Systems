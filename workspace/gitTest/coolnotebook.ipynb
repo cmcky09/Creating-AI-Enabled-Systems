{
 "cells": [
  {
   "cell_type": "code",
   "execution_count": 1,
   "id": "e86ed05e-c47d-4fda-a7b5-effb849f4356",
   "metadata": {},
   "outputs": [],
   "source": [
    "# a cool notebook"
   ]
  },
  {
   "cell_type": "code",
   "execution_count": 2,
   "id": "dcf89aac-2e70-4da1-b087-4eeea300cf95",
   "metadata": {},
   "outputs": [
    {
     "name": "stdout",
     "output_type": "stream",
     "text": [
      "hello from cool notebook\n"
     ]
    }
   ],
   "source": [
    "print(\"hello from cool notebook\")"
   ]
  },
  {
   "cell_type": "code",
   "execution_count": null,
   "id": "46acb58a-e73a-4e1e-8ced-a25a9747278d",
   "metadata": {},
   "outputs": [],
   "source": []
  }
 ],
 "metadata": {
  "kernelspec": {
   "display_name": "Python 3",
   "language": "python",
   "name": "python3"
  },
  "language_info": {
   "codemirror_mode": {
    "name": "ipython",
    "version": 3
   },
   "file_extension": ".py",
   "mimetype": "text/x-python",
   "name": "python",
   "nbconvert_exporter": "python",
   "pygments_lexer": "ipython3",
   "version": "3.7.10"
  }
 },
 "nbformat": 4,
 "nbformat_minor": 5
}
